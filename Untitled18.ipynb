{
  "nbformat": 4,
  "nbformat_minor": 0,
  "metadata": {
    "colab": {
      "provenance": []
    },
    "kernelspec": {
      "name": "python3",
      "display_name": "Python 3"
    },
    "language_info": {
      "name": "python"
    }
  },
  "cells": [
    {
      "cell_type": "code",
      "execution_count": null,
      "metadata": {
        "id": "M2ywyn_tiIL3"
      },
      "outputs": [],
      "source": [
        "import re\n",
        "\n",
        "def password_strength(password):\n",
        "    # Initialize strength criteria\n",
        "    criteria = {\n",
        "        \"length\": len(password) >= 8,\n",
        "        \"uppercase\": any(char.isupper() for char in password),\n",
        "        \"lowercase\": any(char.islower() for char in password),\n",
        "        \"digits\": any(char.isdigit() for char in password),\n",
        "        \"special_characters\": any(char in \"!@#$%^&*()-_+=<>?/.,:;\" for char in password)\n",
        "    }\n",
        "\n",
        "    # Calculate the strength score\n",
        "    score = sum(criteria.values())\n",
        "\n",
        "    # Provide feedback\n",
        "    feedback = []\n",
        "    if not criteria[\"length\"]:\n",
        "        feedback.append(\"Password should be at least 8 characters long.\")\n",
        "    if not criteria[\"uppercase\"]:\n",
        "        feedback.append(\"Password should contain at least one uppercase letter.\")\n",
        "    if not criteria[\"lowercase\"]:\n",
        "        feedback.append(\"Password should contain at least one lowercase letter.\")\n",
        "    if not criteria[\"digits\"]:\n",
        "        feedback.append(\"Password should contain at least one digit.\")\n",
        "    if not criteria[\"special_characters\"]:\n",
        "        feedback.append(\"Password should contain at least one special character (!@#$%^&*()-_+=<>?/.,:;).\")\n",
        "\n",
        "    # Determine the password strength\n",
        "    strength = \"\"\n",
        "    if score == 5:\n",
        "        strength = \"Very Strong\"\n",
        "    elif score == 4:\n",
        "        strength = \"Strong\"\n",
        "    elif score == 3:\n",
        "        strength = \"Moderate\"\n",
        "    else:\n",
        "        strength = \"Weak\"\n",
        "\n",
        "    return strength, feedback\n",
        "\n",
        "def main():\n",
        "    while True:\n",
        "        print(\"Password Strength Checker\")\n",
        "        password = input(\"Enter a password to check its strength (or type 'exit' to quit): \")\n",
        "\n",
        "        if password.lower() == 'exit':\n",
        "            print(\"Exiting program.\")\n",
        "            break\n",
        "\n",
        "        strength, feedback = password_strength(password)\n",
        "        print(f\"Password Strength: {strength}\")\n",
        "        if feedback:\n",
        "            print(\"Feedback:\")\n",
        "            for tip in feedback:\n",
        "                print(f\"- {tip}\")\n",
        "\n",
        "if __name__ == \"__main__\":\n",
        "    main()\n"
      ]
    }
  ]
}